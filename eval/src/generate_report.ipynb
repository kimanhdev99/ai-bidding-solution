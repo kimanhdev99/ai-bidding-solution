{
 "cells": [
  {
   "cell_type": "code",
   "execution_count": null,
   "metadata": {},
   "outputs": [],
   "source": [
    "import sys\n",
    "import json\n",
    "import pandas as pd\n",
    "from dotenv import load_dotenv\n",
    "\n",
    "from azure.cosmos import CosmosClient\n",
    "from azure.identity import DefaultAzureCredential\n",
    "\n",
    "\n",
    "load_dotenv()\n",
    "%load_ext autoreload\n",
    "%autoreload 2\n",
    "sys.path.append(\"../../../\")  \n"
   ]
  },
  {
   "cell_type": "code",
   "execution_count": 21,
   "metadata": {},
   "outputs": [],
   "source": [
    "ACCOUNT_NAME = 'your_cosmos_account'\n",
    "DATABASE_NAME = 'state'\n",
    "CONTAINER_NAME = 'issues'\n",
    "\n",
    "\n",
    "\n",
    "def get_issues_df_from_db(account_name, db_name, container_name):\n",
    "    # Build the Cosmos DB account URL\n",
    "    account_url = f\"https://{account_name}.documents.azure.com:443/\"\n",
    "    \n",
    "    # Use DefaultAzureCredential for authentication\n",
    "    credential = DefaultAzureCredential()\n",
    "    client = CosmosClient(account_url, credential=credential)\n",
    "    \n",
    "    # Access database and container\n",
    "    database = client.get_database_client(db_name)\n",
    "    container = database.get_container_client(container_name)\n",
    "    \n",
    "    # Query and process data\n",
    "    data = list()\n",
    "    items = container.query_items(\n",
    "            query='SELECT * FROM c',\n",
    "            enable_cross_partition_query=True)\n",
    "    for item in items:\n",
    "        data.append(json.dumps(item, indent=True))\n",
    "    \n",
    "    # Convert to DataFrame\n",
    "    df = pd.DataFrame.from_dict([json.loads(i) for i in data])\n",
    "    \n",
    "    return df\n"
   ]
  },
  {
   "cell_type": "code",
   "execution_count": 30,
   "metadata": {},
   "outputs": [],
   "source": [
    "data = get_issues_df_from_db(ACCOUNT_NAME, DATABASE_NAME, CONTAINER_NAME)"
   ]
  },
  {
   "cell_type": "code",
   "execution_count": null,
   "metadata": {
    "jupyter": {
     "is_executing": true
    }
   },
   "outputs": [],
   "source": [
    "data.head(10)"
   ]
  },
  {
   "cell_type": "code",
   "execution_count": 59,
   "metadata": {},
   "outputs": [],
   "source": [
    "from system_monitor import SystemMonitor\n",
    "calculator = SystemMonitor(\"../config.json\")"
   ]
  },
  {
   "cell_type": "code",
   "execution_count": null,
   "metadata": {},
   "outputs": [],
   "source": [
    "data = get_issues_df_from_db(ACCOUNT_NAME, DATABASE_NAME, CONTAINER_NAME)\n",
    "calculator.calculate_metrics(data)\n",
    "print(calculator.get_acceptance_rate())\n",
    "print(calculator.get_amount_of_reviewed_documents())\n",
    "print(calculator.get_issue_type_distribution())"
   ]
  }
 ],
 "metadata": {
  "kernelspec": {
   "display_name": "Python 3",
   "language": "python",
   "name": "python3"
  },
  "language_info": {
   "codemirror_mode": {
    "name": "ipython",
    "version": 3
   },
   "file_extension": ".py",
   "mimetype": "text/x-python",
   "name": "python",
   "nbconvert_exporter": "python",
   "pygments_lexer": "ipython3",
   "version": "3.10.15"
  }
 },
 "nbformat": 4,
 "nbformat_minor": 2
}
